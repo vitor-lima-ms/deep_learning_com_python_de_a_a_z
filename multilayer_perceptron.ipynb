{
 "cells": [
  {
   "cell_type": "markdown",
   "id": "21ec4d8d-1d24-4d2d-9ca1-41ef2ffc67db",
   "metadata": {},
   "source": [
    "# Redes multicamada\n",
    "\n",
    "- Redes multicamadas apresentam camadas ocultas, isto é, camadas entre a entrada e a saída\n",
    "- Na camada escondinda, também há a aplicação da função soma e de ativação\n",
    "- Cada um dos neurônios da camada de entrada é conectado a cada um dos neurônios da camada oculta, e todos os neurônios da camada oculta são conectados à saída\n",
    "\n",
    "## Uma das funções de ativação mais utilizada\n",
    "### y = 1 / (1 + (e^(-x))) --> Função sigmoide\n",
    "- São retornado valores apenas entre 0 e 1\n",
    "- Se o valor de x for alto, o retorno será aproximadamente 1\n",
    "- Se o valor de x for pequeno, o retorno será aproximadamente 0\n",
    "- Ela não retorna valores negativos\n",
    "\n",
    "## Cálculo do erro\n",
    "- erro = respostaCorreta - respostaCalculada\n",
    "- erro total = (somatório dos erros) / (número de registros)\n",
    "- O valor absoluto do erro é o que importa\n",
    "- A tendência é que o erro diminua a cada atualização dos pesos --> Devemos escolher um número de épocas para que a rede seja executada, sendo que em cada época, os pesos são atualizados\n",
    "\n",
    "## Descida do gradiente\n",
    "- Técnica utilizada para atualizarmos os pesos com objetivo de diminuir o valor do erro\n",
    "- Calcular a derivada parcial para omver "
   ]
  }
 ],
 "metadata": {
  "kernelspec": {
   "display_name": "Python 3 (ipykernel)",
   "language": "python",
   "name": "python3"
  },
  "language_info": {
   "codemirror_mode": {
    "name": "ipython",
    "version": 3
   },
   "file_extension": ".py",
   "mimetype": "text/x-python",
   "name": "python",
   "nbconvert_exporter": "python",
   "pygments_lexer": "ipython3",
   "version": "3.12.3"
  }
 },
 "nbformat": 4,
 "nbformat_minor": 5
}
