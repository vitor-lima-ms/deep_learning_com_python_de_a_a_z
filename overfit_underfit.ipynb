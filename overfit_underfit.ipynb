{
 "cells": [
  {
   "cell_type": "markdown",
   "metadata": {},
   "source": [
    "### Qual o melhor modelo?\n",
    "\n",
    "#### Underfitting\n",
    "- Um algoritmo muito simples não poderá resolver um problema muito complexo\n",
    "\n",
    "- Saberemos que um underfitting ocorreu se observarmos resultados ruins na base de dados de treinamento\n",
    "\n",
    "#### Overfitting\n",
    "- Utilização de um algoritmo muito complexo para um problema muito simples\n",
    "\n",
    "    - O algoritmo alcança resultados muito bons, mas apenas com a base de dados de treinamento. Pontos fora da base de dados seriam pessimamente preditos pelo modelo\n",
    "\n",
    "- Saberemos que um overfitting ocorreu se:\n",
    "\n",
    "    - Resultados bons na base de dados de treinamento\n",
    "\n",
    "    - Resultados ruins na base de dados de teste\n",
    "\n",
    "    - Muito específico. É como se o algoritmo tivesse feito uma memorização dos dados e não de fato uma generalização/treinamento\n",
    "    \n",
    "    - Erros na variação de novas instâncias"
   ]
  }
 ],
 "metadata": {
  "language_info": {
   "name": "python"
  }
 },
 "nbformat": 4,
 "nbformat_minor": 2
}
