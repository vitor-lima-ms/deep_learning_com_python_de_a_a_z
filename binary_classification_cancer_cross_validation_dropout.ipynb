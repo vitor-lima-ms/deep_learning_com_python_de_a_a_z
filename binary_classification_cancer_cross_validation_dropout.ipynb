{
 "cells": [
  {
   "cell_type": "code",
   "execution_count": null,
   "metadata": {},
   "outputs": [],
   "source": [
    "import pandas as pd\n",
    "import keras\n",
    "import sklearn # pip install scikit-learn==1.5.0\n",
    "import scikeras"
   ]
  },
  {
   "cell_type": "code",
   "execution_count": null,
   "metadata": {},
   "outputs": [],
   "source": [
    "from scikeras.wrappers import KerasClassifier\n",
    "from sklearn.model_selection import cross_val_score\n",
    "from keras import Sequential\n",
    "from keras import backend as k"
   ]
  },
  {
   "cell_type": "code",
   "execution_count": null,
   "metadata": {},
   "outputs": [],
   "source": [
    "\"\"\"Atributos previsores\"\"\"\n",
    "x = pd.read_csv('/home/vitor-lima/Documents/jupyter/deep_learning_com_python_de_a_a_z/breast_cancer_wisconsin_diagnostic/x.csv')\n",
    "x.drop(['id', 'diagnosis'], axis='columns', inplace=True)\n",
    "\n",
    "\"\"\"Arquivo binário\"\"\"\n",
    "y = pd.read_csv('/home/vitor-lima/Documents/jupyter/deep_learning_com_python_de_a_a_z/breast_cancer_wisconsin_diagnostic/y.csv')"
   ]
  },
  {
   "cell_type": "code",
   "execution_count": null,
   "metadata": {},
   "outputs": [],
   "source": [
    "\"\"\"Para trabalhar com validação cruzada, precisamos de utilizar uma função para criar a rede neural\"\"\"\n",
    "def network_creation():\n",
    "    k.clear_session() # Essa biblioteca é o backend do tensorflow. É importante limpar a sessão antes de criarmos a estrutura da rede neural\n",
    "    \n",
    "    neural_net = Sequential([ # Mesma rede que criamos antes\n",
    "        keras.layers.InputLayer(shape=(10,)),\n",
    "        keras.layers.Dense(units=6, activation='relu', kernel_initializer='random_uniform'),\n",
    "        keras.layers.Dropout(rate=0.2), # Dropout na primeira camada oculta\n",
    "        keras.layers.Dense(units=6, activation='relu', kernel_initializer='random_uniform'),\n",
    "         keras.layers.Dropout(rate=0.2), # Dropout na segunda camada oculta\n",
    "        keras.layers.Dense(units=1, activation='sigmoid')\n",
    "    ])\n",
    "\n",
    "    optimizer = keras.optimizers.Adam(learning_rate=0.001, clipvalue=0.5)\n",
    "\n",
    "    neural_net.compile(optimizer=optimizer, loss='binary_crossentropy', metrics=['binary_accuracy'])\n",
    "\n",
    "    return neural_net"
   ]
  },
  {
   "cell_type": "code",
   "execution_count": null,
   "metadata": {},
   "outputs": [],
   "source": [
    "\"\"\"Criando a estrutura da rede neural\"\"\"\n",
    "neural_net = KerasClassifier(model=network_creation, batch_size=10, epochs=100)"
   ]
  },
  {
   "cell_type": "code",
   "execution_count": null,
   "metadata": {},
   "outputs": [],
   "source": [
    "results = cross_val_score(estimator=neural_net, X=x, y=y, cv=10, scoring='accuracy')\n",
    "# cv é o K do cross validation. 10 é um valor aceito cientificamente"
   ]
  },
  {
   "cell_type": "code",
   "execution_count": null,
   "metadata": {},
   "outputs": [],
   "source": [
    "results # Array com o accuracy das dez vezes que o modelo foi treinado. Quanto mais próximo os valores forem, mais confiável é o algoritmo (para diferentes datasets de treinamento, o modelo apresenta accuracy muito próximas)"
   ]
  },
  {
   "cell_type": "code",
   "execution_count": null,
   "metadata": {},
   "outputs": [],
   "source": [
    "mean_accuracy = results.mean()\n",
    "mean_accuracy # Resultado final de accuracy"
   ]
  },
  {
   "cell_type": "code",
   "execution_count": null,
   "metadata": {},
   "outputs": [],
   "source": [
    "std_accuracy = results.std()\n",
    "std_accuracy # Quanto menor esse valor, mais consistente os resultados do algoritmo (mais próximos os valores de accuracy estão entre si)"
   ]
  }
 ],
 "metadata": {
  "kernelspec": {
   "display_name": "venv",
   "language": "python",
   "name": "python3"
  },
  "language_info": {
   "codemirror_mode": {
    "name": "ipython",
    "version": 3
   },
   "file_extension": ".py",
   "mimetype": "text/x-python",
   "name": "python",
   "nbconvert_exporter": "python",
   "pygments_lexer": "ipython3",
   "version": "3.12.3"
  }
 },
 "nbformat": 4,
 "nbformat_minor": 2
}
