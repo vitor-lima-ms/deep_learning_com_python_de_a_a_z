{
 "cells": [
  {
   "cell_type": "markdown",
   "id": "d7dbc1dc-fabd-4112-8a7c-844d60e27d36",
   "metadata": {},
   "source": [
    "# Introdução ao Deep Learning"
   ]
  },
  {
   "cell_type": "markdown",
   "id": "63e3b15b-5ea4-4f37-a663-31a90e89189e",
   "metadata": {},
   "source": [
    "## Aplicações\n",
    "\n",
    "- Detecção de objetos\n",
    "- Controle de ambientes por meio de câmeras\n",
    "- Processamento de linguagem natural --> Text to speech ou vice-versa\n",
    "- Tradução entre idiomas\n",
    "- Detecção de lesões na pele a partir de imagens\n",
    "- Detecção de doenças em plantas\n",
    "- Carro autônomos\n",
    "- Criação de novas músicas\n",
    "- Criação de novas imagens"
   ]
  },
  {
   "cell_type": "markdown",
   "id": "9976667e-4052-4823-b0bb-c350145ba406",
   "metadata": {},
   "source": [
    "- **Perceptron**: Primeira arquitetura de rede neural, não profunda\n",
    "- Uma rede neural é considerada profunda quando existe mais de uma camada entre a camada de entrada e saída\n",
    "- Redes neurais se tornaram mais populares recentemente devido aos avanços tecnológicos que permitiram uma capacidade de processamento maior. Além disso, hoje em dia existe uma quantidade praticamente infinita de dados, o que permite o treinamento de redes neurais de forma mais acertiva"
   ]
  }
 ],
 "metadata": {
  "kernelspec": {
   "display_name": "Python 3 (ipykernel)",
   "language": "python",
   "name": "python3"
  },
  "language_info": {
   "codemirror_mode": {
    "name": "ipython",
    "version": 3
   },
   "file_extension": ".py",
   "mimetype": "text/x-python",
   "name": "python",
   "nbconvert_exporter": "python",
   "pygments_lexer": "ipython3",
   "version": "3.12.3"
  }
 },
 "nbformat": 4,
 "nbformat_minor": 5
}
