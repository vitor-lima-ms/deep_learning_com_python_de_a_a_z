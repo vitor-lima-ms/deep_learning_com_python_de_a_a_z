{
 "cells": [
  {
   "cell_type": "markdown",
   "id": "d4643a6f-4b05-47c5-8ccc-412a4b183d60",
   "metadata": {},
   "source": [
    "# Perceptron de uma camada\n",
    "\n",
    "## Neurônio artificial\n",
    "- Composto por três partes:\n",
    "- Entradas\n",
    "- Pesos para cada entrada. Pesos são definidos aleatoriamente\n",
    "- Funções soma e de ativação\n",
    "### Aplicação da função soma\n",
    "- Somatório da multiplicação das entradas pelos pesos\n",
    "### Função de ativação\n",
    "- A mais simples é step function. Se o valor retornado pela função soma for >= 1, a função retorna 1, caso contrário, retorna 0\n",
    "### Atualização dos pesos\n",
    "- Os pesos são o que de fato é entendido como o aprendizado\n",
    "- Fórmula de atualização de pesos --> peso(n+1) = peso(n) + (taxaAprendizagem * entrada * erro)\n",
    "- O objetivo da rede neural é encontrar o melhor conjunto de pesos que classifiquem os registros da melhor forma\n",
    "### Problemas não linearmente separáveis não podem ser resolvidos utilizando-se perceptron de uma camada"
   ]
  }
 ],
 "metadata": {
  "kernelspec": {
   "display_name": "Python 3 (ipykernel)",
   "language": "python",
   "name": "python3"
  },
  "language_info": {
   "codemirror_mode": {
    "name": "ipython",
    "version": 3
   },
   "file_extension": ".py",
   "mimetype": "text/x-python",
   "name": "python",
   "nbconvert_exporter": "python",
   "pygments_lexer": "ipython3",
   "version": "3.12.3"
  }
 },
 "nbformat": 4,
 "nbformat_minor": 5
}
