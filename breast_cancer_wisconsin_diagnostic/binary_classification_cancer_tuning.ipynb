{
 "cells": [
  {
   "cell_type": "code",
   "execution_count": null,
   "metadata": {},
   "outputs": [],
   "source": [
    "import pandas as pd\n",
    "import keras\n",
    "import sklearn # pip install scikit-learn==1.5.0\n",
    "import scikeras"
   ]
  },
  {
   "cell_type": "code",
   "execution_count": null,
   "metadata": {},
   "outputs": [],
   "source": [
    "from scikeras.wrappers import KerasClassifier\n",
    "from sklearn.model_selection import cross_val_score\n",
    "from keras import Sequential\n",
    "from keras import backend as k\n",
    "from sklearn.model_selection import GridSearchCV # Essa classe é utilizada para se fazer a combinação de vários parâmetros dentro da rede neural, nos permitindo descobrir qual os melhores parâmetros de forma automática. Ela ainda faz a validação cruzada"
   ]
  },
  {
   "cell_type": "code",
   "execution_count": null,
   "metadata": {},
   "outputs": [],
   "source": [
    "\"\"\"Atributos previsores\"\"\"\n",
    "x = pd.read_csv('/home/vitor-lima/Documents/jupyter/deep_learning_com_python_de_a_a_z/breast_cancer_wisconsin_diagnostic/x.csv')\n",
    "x.drop(['id', 'diagnosis'], axis='columns', inplace=True)\n",
    "\n",
    "\"\"\"Arquivo binário\"\"\"\n",
    "y = pd.read_csv('/home/vitor-lima/Documents/jupyter/deep_learning_com_python_de_a_a_z/breast_cancer_wisconsin_diagnostic/y.csv')"
   ]
  },
  {
   "cell_type": "code",
   "execution_count": null,
   "metadata": {},
   "outputs": [],
   "source": [
    "\"\"\"Para trabalhar com validação cruzada, precisamos de utilizar uma função para criar a rede neural\"\"\"\n",
    "def network_creation(optimizer, loss, kernel_initializer, activation, neurons):\n",
    "    k.clear_session() # Essa biblioteca é o backend do tensorflow. É importante limpar a sessão antes de criarmos a estrutura da rede neural\n",
    "    \n",
    "    neural_net = Sequential([ # Mesma rede que criamos antes\n",
    "        keras.layers.InputLayer(shape=(10,)),\n",
    "        keras.layers.Dense(units=neurons, activation=activation, kernel_initializer=kernel_initializer),\n",
    "        keras.layers.Dropout(rate=0.2), # Dropout na primeira camada oculta\n",
    "        keras.layers.Dense(units=6, activation=activation, kernel_initializer=kernel_initializer),\n",
    "         keras.layers.Dropout(rate=0.2), # Dropout na segunda camada oculta\n",
    "        keras.layers.Dense(units=1, activation='sigmoid')\n",
    "    ])\n",
    "\n",
    "    neural_net.compile(optimizer=optimizer, loss=loss, metrics=['binary_accuracy'])\n",
    "\n",
    "    return neural_net"
   ]
  },
  {
   "cell_type": "code",
   "execution_count": null,
   "metadata": {},
   "outputs": [],
   "source": [
    "\"\"\"Criando a estrutura da rede neural\"\"\"\n",
    "neural_net = KerasClassifier(model=network_creation)"
   ]
  },
  {
   "cell_type": "code",
   "execution_count": null,
   "metadata": {},
   "outputs": [],
   "source": [
    "parameters = { # Variável utilizada para testar diferentes configurações de parâmetros\n",
    "    'batch_size': [10, 30],\n",
    "    'epochs': [50],\n",
    "    'model__optimizer': ['adam'],\n",
    "    'model__loss': ['binary_crossentropy'], # hinge é uma outra função que pode ser utilizada em problemas de classificação binária\n",
    "    'model__kernel_initializer': ['random_uniform'],\n",
    "    'model__activation': ['relu'],\n",
    "    'model__neurons': [16],\n",
    "}\n",
    "\n",
    "# O GridSearchCV vai fazer todas as combinações possíveis com as opções acima para encontrar a melhor. Para encontrar quantas combinações serão testada, basta fazer a multiplicação entre as quantidades de opções de cada parâmetro. Nesse caso 2^7 = 128"
   ]
  },
  {
   "cell_type": "code",
   "execution_count": null,
   "metadata": {},
   "outputs": [],
   "source": [
    "grid_search = GridSearchCV(estimator=neural_net, param_grid=parameters, scoring='accuracy', cv=5) # Definimos igual a 5 apenas para não demorar muito, pois esse valor multiplicará o 2^7 acima"
   ]
  },
  {
   "cell_type": "code",
   "execution_count": null,
   "metadata": {},
   "outputs": [],
   "source": [
    "grid_search = grid_search.fit(X=x, y=y)"
   ]
  },
  {
   "cell_type": "code",
   "execution_count": null,
   "metadata": {},
   "outputs": [],
   "source": [
    "best_parameters = grid_search.best_params_\n",
    "best_parameters"
   ]
  },
  {
   "cell_type": "code",
   "execution_count": null,
   "metadata": {},
   "outputs": [],
   "source": [
    "best_precision = grid_search.best_score_\n",
    "best_precision"
   ]
  }
 ],
 "metadata": {
  "kernelspec": {
   "display_name": "venv",
   "language": "python",
   "name": "python3"
  },
  "language_info": {
   "codemirror_mode": {
    "name": "ipython",
    "version": 3
   },
   "file_extension": ".py",
   "mimetype": "text/x-python",
   "name": "python",
   "nbconvert_exporter": "python",
   "pygments_lexer": "ipython3",
   "version": "3.12.3"
  }
 },
 "nbformat": 4,
 "nbformat_minor": 2
}
