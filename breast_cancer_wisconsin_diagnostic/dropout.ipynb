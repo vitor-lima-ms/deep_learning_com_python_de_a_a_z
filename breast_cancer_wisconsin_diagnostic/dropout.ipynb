{
 "cells": [
  {
   "cell_type": "markdown",
   "metadata": {},
   "source": [
    "##### O dropout é uma maneira de reduzir o overfitting\n",
    "\n",
    "- A técnica de dropout \"zera\" alguns neurônios (não considerarmos os valores deles)\n",
    "\n",
    "- É escolhido um valor de % para desconsiderar. Os valores recomendados estão entre 20% e 30%\n",
    "\n",
    "    - Esse percentual será aplicado para os neurônios de entrada e os das camadas ocultas\n",
    "\n",
    "    - Essa técnica foi publicada em 2014, em um artigo intitulado como ***\"Dropout: A Simple Way to Prevent Neural Networks from Overfitting\"***"
   ]
  }
 ],
 "metadata": {
  "kernelspec": {
   "display_name": "venv",
   "language": "python",
   "name": "python3"
  },
  "language_info": {
   "name": "python",
   "version": "3.12.3"
  }
 },
 "nbformat": 4,
 "nbformat_minor": 2
}
