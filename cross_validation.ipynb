{
 "cells": [
  {
   "cell_type": "markdown",
   "metadata": {},
   "source": [
    "- K-Fold cross validation ou validação cruzada é uma técnica para avaliar algoritmos de aprendizado de máquina\n",
    "\n",
    "- Muito utilizado no lugar de dividir o dataset entre treinamento e teste\n",
    "\n",
    "- Essa técnica de validação é mais precisa\n",
    "\n",
    "- O K é um número que representa o número de divisões que serão feitas na base de dados. 10 é um número muito aceito em trabalhos científicos\n",
    "\n",
    "- Todos as divisões serão utilizadas como base para treinamento e teste do modelo\n",
    "\n",
    "    - **Ex**: No primeiro treinamento, a primeira divisão é usada como teste e as nove restantes para treinar o modelo. No segundo treinamento, a segunda divisão é utilizada como teste e as nove restantes para treinar o modelo, e assim sucessivamente, até que todas as divisões tenham sido utilizadas para testar o modelo\n",
    "\n",
    "    - Como teremos mais de um resultado, precisaremos tirar a média das acurácias e das taxas de erro"
   ]
  }
 ],
 "metadata": {
  "language_info": {
   "name": "python"
  }
 },
 "nbformat": 4,
 "nbformat_minor": 2
}
