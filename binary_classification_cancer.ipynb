{
 "cells": [
  {
   "cell_type": "code",
   "execution_count": null,
   "id": "38e0a619-99fc-4e71-a2dd-e91824d2fff3",
   "metadata": {},
   "outputs": [],
   "source": [
    "import pandas as pd\n",
    "from sklearn.model_selection import train_test_split\n",
    "import tensorflow as tf\n",
    "import keras\n",
    "from sklearn.metrics import accuracy_score, confusion_matrix"
   ]
  },
  {
   "cell_type": "code",
   "execution_count": null,
   "id": "d4cb65be-4c9c-4956-87e3-8a9ee9fbd188",
   "metadata": {},
   "outputs": [],
   "source": [
    "\"\"\"Atributos previsores (x)\"\"\"\n",
    "x = pd.read_csv('/home/vitor-lima/Documents/jupyter/deep_learning_com_python_de_a_a_z/breast_cancer_wisconsin_diagnostic/x.csv')"
   ]
  },
  {
   "cell_type": "code",
   "execution_count": null,
   "id": "a4954a31-cd90-4bbf-904e-68cb0157ad88",
   "metadata": {},
   "outputs": [],
   "source": [
    "\"\"\"Função para preencher as colunas das classes (y) com base no diagnóstico\"\"\"\n",
    "def binary(row):\n",
    "    if row['diagnosis'] == 'M':\n",
    "        return 1\n",
    "    return 0"
   ]
  },
  {
   "cell_type": "code",
   "execution_count": null,
   "id": "2cd09619-c94a-43ab-a806-32c0d078fbff",
   "metadata": {},
   "outputs": [],
   "source": [
    "\"\"\"Criando o arquivo binário\"\"\"\n",
    "y = x.apply(binary, axis=1)\n",
    "y = pd.DataFrame(y, columns=['binary'])\n",
    "y.to_csv('/home/vitor-lima/Documents/jupyter/deep_learning_com_python_de_a_a_z/breast_cancer_wisconsin_diagnostic/y.csv', index=False)\n",
    "x.drop(['id', 'diagnosis'], axis='columns', inplace=True)"
   ]
  },
  {
   "cell_type": "code",
   "execution_count": null,
   "id": "c3191b4f",
   "metadata": {},
   "outputs": [],
   "source": [
    "x_training, x_test, y_training, y_test = train_test_split(x, y, test_size=0.25) # 25% para testar e 75% para treinar\n",
    "x_training.to_csv('/home/vitor-lima/Documents/jupyter/deep_learning_com_python_de_a_a_z/breast_cancer_wisconsin_diagnostic/x_training.csv')\n",
    "y_training.to_csv('/home/vitor-lima/Documents/jupyter/deep_learning_com_python_de_a_a_z/breast_cancer_wisconsin_diagnostic/y_training.csv')\n",
    "x_test.to_csv('/home/vitor-lima/Documents/jupyter/deep_learning_com_python_de_a_a_z/breast_cancer_wisconsin_diagnostic/x_test.csv')\n",
    "y_test.to_csv('/home/vitor-lima/Documents/jupyter/deep_learning_com_python_de_a_a_z/breast_cancer_wisconsin_diagnostic/y_test.csv')"
   ]
  },
  {
   "cell_type": "code",
   "execution_count": null,
   "id": "6e32fe30",
   "metadata": {},
   "outputs": [],
   "source": [
    "\"\"\"Criando a variável que representa a rede neural\"\"\"\n",
    "neural_net = keras.Sequential([\n",
    "    keras.layers.InputLayer(shape=(10,)), # shape deve ser igual ao número de atributos previsores\n",
    "    keras.layers.Dense(units=6, activation='relu', kernel_initializer='random_uniform'), # Rede neural densa. Todos os neurônios de uma camada estão conectados aos neurônios da próxima camada. Para definir o parâmetro units, fazemos a média entre o número de neurônios de entrada e de saída, sempre arredondando para cima\n",
    "    # Utilizamos a ReLU pois estamos criando a camada oculta\n",
    "    # kernel_initializer é a forma como os pesos serão inicializados\n",
    "    keras.layers.Dense(units=1, activation='sigmoid') # Camada de saída\n",
    "])"
   ]
  },
  {
   "cell_type": "code",
   "execution_count": null,
   "id": "130766d0",
   "metadata": {},
   "outputs": [],
   "source": [
    "neural_net.summary() # (66) Param = 6 [neurônios da camada oculta] * 10 [número de parâmetros] + 6 [bias]\n",
    "# (7) Param = 6 [neurônios da camada oculta] + 1 [bias]\n",
    "# (73) Total params = 66 + 7. Representam os pesos que serão ajustados"
   ]
  },
  {
   "cell_type": "code",
   "execution_count": null,
   "id": "eafbd99f",
   "metadata": {},
   "outputs": [],
   "source": [
    "\"\"\"Definindo a maneira de ajuste dos pesos, função que calcula o erro, e as métricas retornadas\"\"\"\n",
    "neural_net.compile(optimizer='Adam', loss='binary_crossentropy', metrics=['binary_accuracy'])\n",
    "# optimizer = Algoritmo utilizado para o ajuste dos pesos. Adam é uma melhoria do Sthocastic Gradient Descent\n",
    "# loss = Função que calcula o erro. BinaryCrossentropy para duas classes. CategoricalCrossentropy para mais de duas classes. MeanAbsolute e MeanSquare são utilizadas em regressões (previsões de números). As funções baseadas em Crossentropy utilizam cálculos de logaritmos, sendo mais otmizadas e tendo um desempenho melhor\n",
    "# metrics = Lista com as métricas que serão retornadas. BinaryAccuracy para problemas de classificação binária"
   ]
  },
  {
   "cell_type": "code",
   "execution_count": null,
   "id": "ccc5575c",
   "metadata": {},
   "outputs": [],
   "source": [
    "\"\"\"Treinando o modelo\"\"\"\n",
    "neural_net.fit(x_training, y_training, batch_size=10, epochs=100)\n",
    "# batch_size = Quantidade de dados que vai ser enviada por vez para a rede neural. Os pesos são atualizados após o processamento de um batch que, nesse caso, é composto por 10 registros\n",
    "# epochs = Quantidade de vezes que o processo será executado. Em cada uma das vezes, a rede neural irá processar todos os registros"
   ]
  },
  {
   "cell_type": "code",
   "execution_count": null,
   "id": "d4230ff4",
   "metadata": {},
   "outputs": [],
   "source": [
    "\"\"\"Previsões e avaliação da base de dados de teste\"\"\"\n",
    "predictions = neural_net.predict(x_test)\n",
    "predictions = predictions > 0.5 # Converte os valores retornados pela função sigmoide (valores estes que estão entre 0 e 1) para True ou False. Quanto maior o valor, maior a confiança que esperamos do algoritmo\n",
    "predictions_df = pd.DataFrame(predictions, columns=['predictions'])\n",
    "predictions_df.to_csv('/home/vitor-lima/Documents/jupyter/deep_learning_com_python_de_a_a_z/breast_cancer_wisconsin_diagnostic/predictions.csv')"
   ]
  },
  {
   "cell_type": "code",
   "execution_count": null,
   "id": "8a4e1b81",
   "metadata": {},
   "outputs": [],
   "source": [
    "\"\"\"Avaliando a acurácia do modelo\"\"\"\n",
    "accuracy_score(y_test, predictions)"
   ]
  },
  {
   "cell_type": "code",
   "execution_count": null,
   "id": "53c78884",
   "metadata": {},
   "outputs": [],
   "source": [
    "\"\"\"Visualizando a matriz de erro\"\"\"\n",
    "confusion_matrix(y_test, predictions)"
   ]
  }
 ],
 "metadata": {
  "kernelspec": {
   "display_name": "venv",
   "language": "python",
   "name": "python3"
  },
  "language_info": {
   "codemirror_mode": {
    "name": "ipython",
    "version": 3
   },
   "file_extension": ".py",
   "mimetype": "text/x-python",
   "name": "python",
   "nbconvert_exporter": "python",
   "pygments_lexer": "ipython3",
   "version": "3.12.3"
  }
 },
 "nbformat": 4,
 "nbformat_minor": 5
}
